{
 "cells": [
  {
   "cell_type": "code",
   "execution_count": 22,
   "metadata": {},
   "outputs": [],
   "source": [
    "import pandas as pd\n",
    "import numpy as np\n",
    "import sklearn.model_selection\n",
    "import sklearn.linear_model\n",
    "from sklearn.metrics.pairwise import cosine_similarity"
   ]
  },
  {
   "cell_type": "code",
   "execution_count": 23,
   "metadata": {},
   "outputs": [],
   "source": [
    "df = pd.read_csv(\"Food survey.csv\")\n",
    "df.head()\n",
    "\n",
    "dishes = df.iloc[:, 1:]\n",
    "\n",
    "headers = dishes.columns.values"
   ]
  },
  {
   "cell_type": "code",
   "execution_count": 24,
   "metadata": {},
   "outputs": [
    {
     "name": "stdout",
     "output_type": "stream",
     "text": [
      "Patta Gobi\n"
     ]
    }
   ],
   "source": [
    "dish_names = headers.copy()\n",
    "print(dish_names[0])"
   ]
  },
  {
   "cell_type": "code",
   "execution_count": 25,
   "metadata": {},
   "outputs": [],
   "source": [
    "new_headers = np.arange(0, 16)\n",
    "\n",
    "dishes.columns = new_headers"
   ]
  },
  {
   "cell_type": "code",
   "execution_count": 26,
   "metadata": {},
   "outputs": [],
   "source": [
    "users = {}\n",
    "for i in range(36):\n",
    "    users[i] = str(i)"
   ]
  },
  {
   "cell_type": "code",
   "execution_count": 27,
   "metadata": {},
   "outputs": [
    {
     "data": {
      "text/plain": [
       "{0: '0',\n",
       " 1: '1',\n",
       " 2: '2',\n",
       " 3: '3',\n",
       " 4: '4',\n",
       " 5: '5',\n",
       " 6: '6',\n",
       " 7: '7',\n",
       " 8: '8',\n",
       " 9: '9',\n",
       " 10: '10',\n",
       " 11: '11',\n",
       " 12: '12',\n",
       " 13: '13',\n",
       " 14: '14',\n",
       " 15: '15',\n",
       " 16: '16',\n",
       " 17: '17',\n",
       " 18: '18',\n",
       " 19: '19',\n",
       " 20: '20',\n",
       " 21: '21',\n",
       " 22: '22',\n",
       " 23: '23',\n",
       " 24: '24',\n",
       " 25: '25',\n",
       " 26: '26',\n",
       " 27: '27',\n",
       " 28: '28',\n",
       " 29: '29',\n",
       " 30: '30',\n",
       " 31: '31',\n",
       " 32: '32',\n",
       " 33: '33',\n",
       " 34: '34',\n",
       " 35: '35'}"
      ]
     },
     "execution_count": 27,
     "metadata": {},
     "output_type": "execute_result"
    }
   ],
   "source": [
    "users"
   ]
  },
  {
   "cell_type": "code",
   "execution_count": 28,
   "metadata": {},
   "outputs": [],
   "source": [
    "def item_similarity(interaction_matrix):\n",
    "    # Transpose the interaction matrix to have items as rows and users as columns\n",
    "    item_interaction_matrix = interaction_matrix.T\n",
    "    \n",
    "    # Calculate cosine similarity between items\n",
    "    similarity_matrix = cosine_similarity(item_interaction_matrix, dense_output=False)\n",
    "    \n",
    "    return similarity_matrix"
   ]
  },
  {
   "cell_type": "code",
   "execution_count": 29,
   "metadata": {},
   "outputs": [],
   "source": [
    "def select_neighborhood(similarity_matrix, item_id, neighborhood_size):\n",
    "    # Get the similarity scores for the given item\n",
    "    item_similarity_scores = similarity_matrix[item_id]\n",
    "    \n",
    "    # Sort the items based on similarity scores (excluding the item itself)\n",
    "    sorted_indices = np.argsort(item_similarity_scores)[::]\n",
    "    \n",
    "    # Select the top neighborhood_size similar items (excluding the item itself)\n",
    "    neighborhood = sorted_indices[1:neighborhood_size+1]\n",
    "    \n",
    "    return neighborhood"
   ]
  },
  {
   "cell_type": "code",
   "execution_count": 30,
   "metadata": {},
   "outputs": [],
   "source": [
    "def update_data(user_id, selected_dish):\n",
    "    dish_similarity = item_similarity(dishes)\n",
    "    hood = select_neighborhood(dish_similarity, selected_dish, 5)\n",
    "    for i in hood:\n",
    "        if(dish_similarity[user_id][i] < 0.7):\n",
    "            dish_similarity[user_id][i] += 0.2\n",
    "            dishes.iloc[user_id][i] += 0.2\n",
    "        else:\n",
    "            dish_similarity[user_id][i] -= 0.5\n",
    "            dishes.iloc[user_id][i] -= 0.5"
   ]
  },
  {
   "cell_type": "code",
   "execution_count": 31,
   "metadata": {},
   "outputs": [],
   "source": [
    "x = np.array(df.iloc[:, 1:])\n",
    "y = np.array(df.iloc[:, 0]).reshape(-1,1)"
   ]
  },
  {
   "cell_type": "code",
   "execution_count": 32,
   "metadata": {},
   "outputs": [],
   "source": [
    "model = sklearn.linear_model.LinearRegression().fit(y, x)"
   ]
  },
  {
   "cell_type": "code",
   "execution_count": 33,
   "metadata": {},
   "outputs": [
    {
     "data": {
      "text/plain": [
       "array([[2.90595238, 3.01111111, 2.84619048, 3.47111111, 2.85492063,\n",
       "        3.14888889, 2.8968254 , 2.73079365, 2.56504762, 2.42825397,\n",
       "        2.45047619, 2.60539683, 3.36142857, 3.52031746, 2.50444444,\n",
       "        2.506     ]])"
      ]
     },
     "execution_count": 33,
     "metadata": {},
     "output_type": "execute_result"
    }
   ],
   "source": [
    "model.predict([[37]])"
   ]
  },
  {
   "cell_type": "code",
   "execution_count": 34,
   "metadata": {},
   "outputs": [],
   "source": [
    "def add_user(name):\n",
    "    global dishes\n",
    "    dict = {}\n",
    "    new_data = model.predict([[len(dishes)]])\n",
    "\n",
    "    for i in range(len(new_data[0])):\n",
    "        dict[i] = new_data[0][i]\n",
    "    \n",
    "    print(dict)\n",
    "\n",
    "    #df2 = pd.DataFrame(dict)\n",
    "\n",
    "    dishes = dishes._append(dict, ignore_index=True)\n",
    "\n",
    "    users[len(dishes)] = name"
   ]
  },
  {
   "cell_type": "code",
   "execution_count": 35,
   "metadata": {},
   "outputs": [
    {
     "name": "stdout",
     "output_type": "stream",
     "text": [
      "{0: 2.927477477477477, 1: 3.0057057057057053, 2: 2.8837837837837834, 3: 3.496696696696697, 4: 2.883183183183183, 5: 3.183483483483484, 6: 2.921921921921922, 7: 2.75015015015015, 8: 2.5936036036036034, 9: 2.455255255255255, 10: 2.4720720720720717, 11: 2.6300300300300297, 12: 3.3824324324324326, 13: 3.5420420420420418, 14: 2.5444444444444447, 15: 2.5502252252252244}\n"
     ]
    }
   ],
   "source": [
    "add_user(\"gersde\")"
   ]
  },
  {
   "cell_type": "code",
   "execution_count": 36,
   "metadata": {},
   "outputs": [
    {
     "data": {
      "text/plain": [
       "{0: '0',\n",
       " 1: '1',\n",
       " 2: '2',\n",
       " 3: '3',\n",
       " 4: '4',\n",
       " 5: '5',\n",
       " 6: '6',\n",
       " 7: '7',\n",
       " 8: '8',\n",
       " 9: '9',\n",
       " 10: '10',\n",
       " 11: '11',\n",
       " 12: '12',\n",
       " 13: '13',\n",
       " 14: '14',\n",
       " 15: '15',\n",
       " 16: '16',\n",
       " 17: '17',\n",
       " 18: '18',\n",
       " 19: '19',\n",
       " 20: '20',\n",
       " 21: '21',\n",
       " 22: '22',\n",
       " 23: '23',\n",
       " 24: '24',\n",
       " 25: '25',\n",
       " 26: '26',\n",
       " 27: '27',\n",
       " 28: '28',\n",
       " 29: '29',\n",
       " 30: '30',\n",
       " 31: '31',\n",
       " 32: '32',\n",
       " 33: '33',\n",
       " 34: '34',\n",
       " 35: '35',\n",
       " 37: 'gersde'}"
      ]
     },
     "execution_count": 36,
     "metadata": {},
     "output_type": "execute_result"
    }
   ],
   "source": [
    "users"
   ]
  },
  {
   "cell_type": "code",
   "execution_count": 37,
   "metadata": {},
   "outputs": [],
   "source": [
    "def validate_user(id):\n",
    "    if id in dishes.index:\n",
    "        return True\n",
    "    else:\n",
    "        return False"
   ]
  },
  {
   "cell_type": "code",
   "execution_count": 38,
   "metadata": {},
   "outputs": [],
   "source": [
    "def getList(id):\n",
    "    recc = {}\n",
    "    for i in range(16):\n",
    "        recc[i] = dishes.iloc[2][i]\n",
    "\n",
    "    recc = sorted(recc.items(), key = lambda item:item[1])\n",
    "    return recc"
   ]
  },
  {
   "cell_type": "code",
   "execution_count": 39,
   "metadata": {},
   "outputs": [
    {
     "name": "stdout",
     "output_type": "stream",
     "text": [
      "[(4, 5.0), (3, 5.0), (14, 4.8), (13, 4.8), (9, 4.8)]\n",
      "5.0\n"
     ]
    }
   ],
   "source": [
    "a = getList(2)\n",
    "b = a[15:10:-1]\n",
    "print(b)\n",
    "\n",
    "print(b[1][1])"
   ]
  },
  {
   "cell_type": "code",
   "execution_count": 44,
   "metadata": {},
   "outputs": [],
   "source": [
    "def interact(id):\n",
    "    print(\"What would you like to eat today?\")\n",
    "    for i in range(0, len(dish_names)):\n",
    "        print(i, dish_names[i])\n",
    "\n",
    "    while (True):\n",
    "        print(\"\\nEnter your choice, enter 99 to exit, or enter 111 for recommendations.\")\n",
    "        selection = int(input())\n",
    "\n",
    "        if selection==99:\n",
    "            break\n",
    "        elif selection==111:\n",
    "            print(\"Perhaps you might enjoy: \")\n",
    "            recc = getList(id)[15:10:-1]\n",
    "            for i in recc:\n",
    "                print(dish_names[i[0]])\n",
    "            print(\"Enter your selection: \")\n",
    "            d = int(input())\n",
    "            update_data(id, d)\n",
    "\n",
    "        elif (dishes.iloc[id][selection] > 3):\n",
    "            print(\"\\nGreat choice, enjoy your meal.\\n\")\n",
    "            update_data(id, selection)"
   ]
  },
  {
   "cell_type": "code",
   "execution_count": 41,
   "metadata": {},
   "outputs": [
    {
     "data": {
      "text/plain": [
       "0     4.20\n",
       "1     1.00\n",
       "2     4.20\n",
       "3     5.00\n",
       "4     5.00\n",
       "5     4.80\n",
       "6     4.60\n",
       "7     4.00\n",
       "8     4.67\n",
       "9     4.80\n",
       "10    4.40\n",
       "11    4.60\n",
       "12    4.60\n",
       "13    4.80\n",
       "14    4.80\n",
       "15    4.60\n",
       "Name: 2, dtype: float64"
      ]
     },
     "execution_count": 41,
     "metadata": {},
     "output_type": "execute_result"
    }
   ],
   "source": [
    "dishes.loc[2]"
   ]
  },
  {
   "cell_type": "code",
   "execution_count": 45,
   "metadata": {},
   "outputs": [
    {
     "name": "stdout",
     "output_type": "stream",
     "text": [
      "Welcome,  2\n",
      "What would you like to eat today?\n",
      "0 Patta Gobi\n",
      "1 Phool Gobi\n",
      "2 Bhindi\n",
      "3 Aloo Sabzi\n",
      "4 Rajma\n",
      "5 Paneer\n",
      "6 Chole\n",
      "7 Baingan\n",
      "8 Shimla Mirch\n",
      "9 Sev Tamatar\n",
      "10 Malai Pyaaz\n",
      "11 Mix Veg\n",
      "12 Any Dal\n",
      "13 Aloo Paratha\n",
      "14 Pyaaz Paratha\n",
      "15 Paneer Paratha\n",
      "\n",
      "Enter your choice, enter 99 to exit, or enter 111 for recommendations.\n",
      "Perhaps you might enjoy: \n",
      "Rajma\n",
      "Aloo Sabzi\n",
      "Pyaaz Paratha\n",
      "Aloo Paratha\n",
      "Paneer\n",
      "Enter your selection: \n",
      "\n",
      "Enter your choice, enter 99 to exit, or enter 111 for recommendations.\n",
      "Perhaps you might enjoy: \n",
      "Rajma\n",
      "Aloo Sabzi\n",
      "Aloo Paratha\n",
      "Paneer\n",
      "Shimla Mirch\n",
      "Enter your selection: \n",
      "\n",
      "Enter your choice, enter 99 to exit, or enter 111 for recommendations.\n",
      "Perhaps you might enjoy: \n",
      "Aloo Sabzi\n",
      "Aloo Paratha\n",
      "Shimla Mirch\n",
      "Rajma\n",
      "Malai Pyaaz\n",
      "Enter your selection: \n"
     ]
    },
    {
     "ename": "IndexError",
     "evalue": "index 99 is out of bounds for axis 0 with size 16",
     "output_type": "error",
     "traceback": [
      "\u001b[1;31m---------------------------------------------------------------------------\u001b[0m",
      "\u001b[1;31mIndexError\u001b[0m                                Traceback (most recent call last)",
      "Cell \u001b[1;32mIn[45], line 13\u001b[0m\n\u001b[0;32m     11\u001b[0m \u001b[38;5;28;01melse\u001b[39;00m:\n\u001b[0;32m     12\u001b[0m     \u001b[38;5;28mprint\u001b[39m(\u001b[38;5;124m\"\u001b[39m\u001b[38;5;124mWelcome, \u001b[39m\u001b[38;5;124m\"\u001b[39m, users[\u001b[38;5;28mid\u001b[39m])\n\u001b[1;32m---> 13\u001b[0m     \u001b[43minteract\u001b[49m\u001b[43m(\u001b[49m\u001b[38;5;28;43mid\u001b[39;49m\u001b[43m)\u001b[49m\n",
      "Cell \u001b[1;32mIn[44], line 19\u001b[0m, in \u001b[0;36minteract\u001b[1;34m(id)\u001b[0m\n\u001b[0;32m     17\u001b[0m     \u001b[38;5;28mprint\u001b[39m(\u001b[38;5;124m\"\u001b[39m\u001b[38;5;124mEnter your selection: \u001b[39m\u001b[38;5;124m\"\u001b[39m)\n\u001b[0;32m     18\u001b[0m     d \u001b[38;5;241m=\u001b[39m \u001b[38;5;28mint\u001b[39m(\u001b[38;5;28minput\u001b[39m())\n\u001b[1;32m---> 19\u001b[0m     \u001b[43mupdate_data\u001b[49m\u001b[43m(\u001b[49m\u001b[38;5;28;43mid\u001b[39;49m\u001b[43m,\u001b[49m\u001b[43m \u001b[49m\u001b[43md\u001b[49m\u001b[43m)\u001b[49m\n\u001b[0;32m     21\u001b[0m \u001b[38;5;28;01melif\u001b[39;00m (dishes\u001b[38;5;241m.\u001b[39miloc[\u001b[38;5;28mid\u001b[39m][selection] \u001b[38;5;241m>\u001b[39m \u001b[38;5;241m3\u001b[39m):\n\u001b[0;32m     22\u001b[0m     \u001b[38;5;28mprint\u001b[39m(\u001b[38;5;124m\"\u001b[39m\u001b[38;5;130;01m\\n\u001b[39;00m\u001b[38;5;124mGreat choice, enjoy your meal.\u001b[39m\u001b[38;5;130;01m\\n\u001b[39;00m\u001b[38;5;124m\"\u001b[39m)\n",
      "Cell \u001b[1;32mIn[30], line 3\u001b[0m, in \u001b[0;36mupdate_data\u001b[1;34m(user_id, selected_dish)\u001b[0m\n\u001b[0;32m      1\u001b[0m \u001b[38;5;28;01mdef\u001b[39;00m \u001b[38;5;21mupdate_data\u001b[39m(user_id, selected_dish):\n\u001b[0;32m      2\u001b[0m     dish_similarity \u001b[38;5;241m=\u001b[39m item_similarity(dishes)\n\u001b[1;32m----> 3\u001b[0m     hood \u001b[38;5;241m=\u001b[39m \u001b[43mselect_neighborhood\u001b[49m\u001b[43m(\u001b[49m\u001b[43mdish_similarity\u001b[49m\u001b[43m,\u001b[49m\u001b[43m \u001b[49m\u001b[43mselected_dish\u001b[49m\u001b[43m,\u001b[49m\u001b[43m \u001b[49m\u001b[38;5;241;43m5\u001b[39;49m\u001b[43m)\u001b[49m\n\u001b[0;32m      4\u001b[0m     \u001b[38;5;28;01mfor\u001b[39;00m i \u001b[38;5;129;01min\u001b[39;00m hood:\n\u001b[0;32m      5\u001b[0m         \u001b[38;5;28;01mif\u001b[39;00m(dish_similarity[user_id][i] \u001b[38;5;241m<\u001b[39m \u001b[38;5;241m0.7\u001b[39m):\n",
      "Cell \u001b[1;32mIn[29], line 3\u001b[0m, in \u001b[0;36mselect_neighborhood\u001b[1;34m(similarity_matrix, item_id, neighborhood_size)\u001b[0m\n\u001b[0;32m      1\u001b[0m \u001b[38;5;28;01mdef\u001b[39;00m \u001b[38;5;21mselect_neighborhood\u001b[39m(similarity_matrix, item_id, neighborhood_size):\n\u001b[0;32m      2\u001b[0m     \u001b[38;5;66;03m# Get the similarity scores for the given item\u001b[39;00m\n\u001b[1;32m----> 3\u001b[0m     item_similarity_scores \u001b[38;5;241m=\u001b[39m \u001b[43msimilarity_matrix\u001b[49m\u001b[43m[\u001b[49m\u001b[43mitem_id\u001b[49m\u001b[43m]\u001b[49m\n\u001b[0;32m      5\u001b[0m     \u001b[38;5;66;03m# Sort the items based on similarity scores (excluding the item itself)\u001b[39;00m\n\u001b[0;32m      6\u001b[0m     sorted_indices \u001b[38;5;241m=\u001b[39m np\u001b[38;5;241m.\u001b[39margsort(item_similarity_scores)[::]\n",
      "\u001b[1;31mIndexError\u001b[0m: index 99 is out of bounds for axis 0 with size 16"
     ]
    }
   ],
   "source": [
    "#Ask the user for their ID\n",
    "id = int(input(\"Enter your ID:\"))\n",
    "\n",
    "if not validate_user(id):\n",
    "    print(dishes.index)\n",
    "    print(\"User doesn't exist, making account...\")\n",
    "    print(\"Please enter your username: \")\n",
    "    name = input()\n",
    "    add_user(name)\n",
    "    print(\"User ID: \", len(dishes))\n",
    "else:\n",
    "    print(\"Welcome, \", users[id])\n",
    "    interact(id)"
   ]
  }
 ],
 "metadata": {
  "kernelspec": {
   "display_name": "Python 3",
   "language": "python",
   "name": "python3"
  },
  "language_info": {
   "codemirror_mode": {
    "name": "ipython",
    "version": 3
   },
   "file_extension": ".py",
   "mimetype": "text/x-python",
   "name": "python",
   "nbconvert_exporter": "python",
   "pygments_lexer": "ipython3",
   "version": "3.11.3"
  }
 },
 "nbformat": 4,
 "nbformat_minor": 2
}
